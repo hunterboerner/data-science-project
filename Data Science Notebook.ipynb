{
 "metadata": {
  "name": "",
  "signature": "sha256:6b2b8de865cbddc75a55048509d7d1faff377db2b04a29ba741f3a35402cdc64"
 },
 "nbformat": 3,
 "nbformat_minor": 0,
 "worksheets": [
  {
   "cells": [
    {
     "cell_type": "code",
     "collapsed": false,
     "input": [
      "import numpy as np\n",
      "import pandas as pd\n",
      "\n",
      "city_data = pd.read_csv('USData_ClassProject1.csv')\n",
      "np.mean(city_data['AvgHighTemp'])"
     ],
     "language": "python",
     "metadata": {},
     "outputs": [
      {
       "metadata": {},
       "output_type": "pyout",
       "prompt_number": 8,
       "text": [
        "68.05416666666666"
       ]
      }
     ],
     "prompt_number": 8
    },
    {
     "cell_type": "code",
     "collapsed": false,
     "input": [],
     "language": "python",
     "metadata": {},
     "outputs": []
    }
   ],
   "metadata": {}
  }
 ]
}