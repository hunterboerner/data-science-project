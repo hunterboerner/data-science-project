{
 "metadata": {
  "name": "",
  "signature": "sha256:c573ca67b5d4da0cc74c9907ee88fdab4b8872673d382435a52ab0cbccb22c10"
 },
 "nbformat": 3,
 "nbformat_minor": 0,
 "worksheets": [
  {
   "cells": [
    {
     "cell_type": "code",
     "collapsed": false,
     "input": [
      "import numpy as np\n",
      "import pandas as pd\n",
      "\n",
      "city_data = pd.read_csv('USData_ClassProject1.csv')\n",
      "np.mean(city_data['AvgHighTemp'])\n",
      "np.mean(city_data['PercentOver65'])\n"
     ],
     "language": "python",
     "metadata": {},
     "outputs": [
      {
       "metadata": {},
       "output_type": "pyout",
       "prompt_number": 13,
       "text": [
        "15.812146226415093"
       ]
      }
     ],
     "prompt_number": 13
    },
    {
     "cell_type": "code",
     "collapsed": false,
     "input": [],
     "language": "python",
     "metadata": {},
     "outputs": []
    }
   ],
   "metadata": {}
  }
 ]
}