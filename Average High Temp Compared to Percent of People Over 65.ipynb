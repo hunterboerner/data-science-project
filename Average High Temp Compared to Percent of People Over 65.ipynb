{
 "metadata": {
  "name": "",
  "signature": "sha256:43fa02b624a3f38c3dbe2835f7d57144d20a8bb2ca0257121ac4b87f8814d6e4"
 },
 "nbformat": 3,
 "nbformat_minor": 0,
 "worksheets": [
  {
   "cells": [
    {
     "cell_type": "markdown",
     "metadata": {},
     "source": [
      "#Average High Temp Compared to Percent of People Over 65\n",
      "\n",
      "With a R^2 value of `5.85923815797e-05`, there is no related of average high tempature compared to age."
     ]
    },
    {
     "cell_type": "code",
     "collapsed": false,
     "input": [
      "import numpy as np\n",
      "import pandas as pd\n",
      "import matplotlib.pyplot as plt# Load data\n",
      "from sklearn import linear_model\n",
      "import statsmodels.api as sm\n",
      "\n",
      "%matplotlib inline\n",
      "city_data = pd.read_csv('USData_ClassProject1.csv')"
     ],
     "language": "python",
     "metadata": {},
     "outputs": [],
     "prompt_number": 50
    },
    {
     "cell_type": "code",
     "collapsed": false,
     "input": [
      "y = city_data.PercentOver65\n",
      "x = city_data.AvgHighTemp\n",
      "x = sm.add_constant(x)\n",
      "\n",
      "clf = linear_model.LinearRegression()\n",
      "clf.fit(x,y)\n",
      "\n",
      "y_hat = clf.predict(x)"
     ],
     "language": "python",
     "metadata": {},
     "outputs": [],
     "prompt_number": 55
    },
    {
     "cell_type": "code",
     "collapsed": false,
     "input": [
      "plt.scatter(city_data.AvgHighTemp,city_data.PercentOver65,color=\"Black\")\n",
      "plt.plot(x.AvgHighTemp, y_hat, 'b', alpha=0.9)\n",
      "plt.xlabel('AvgHighTemp')\n",
      "plt.ylabel('PercentOver65')\n",
      "\n",
      "print \"R^2: \", clf.score(x,y)"
     ],
     "language": "python",
     "metadata": {},
     "outputs": [
      {
       "output_type": "stream",
       "stream": "stdout",
       "text": [
        " R^2:  5.85923815797e-05\n"
       ]
      },
      {
       "metadata": {},
       "output_type": "display_data",
       "png": "[encoded data removed]",
       "text": [
        "<matplotlib.figure.Figure at 0x10bec72d0>"
       ]
      }
     ],
     "prompt_number": 70
    }
   ],
   "metadata": {}
  }
 ]
}