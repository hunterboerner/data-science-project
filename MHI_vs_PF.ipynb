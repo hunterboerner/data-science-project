{
 "metadata": {
  "name": "",
  "signature": "sha256:204f67b00fbf281835671f481dbdf627bdb43909cb4634b5c0efe777822430a8"
 },
 "nbformat": 3,
 "nbformat_minor": 0,
 "worksheets": [
  {
   "cells": [
    {
     "cell_type": "code",
     "collapsed": false,
     "input": [
      "import numpy as np\n",
      "import matplotlib.pyplot as plt\n",
      "import pandas as pd\n",
      "import numpy as np\n",
      "%matplotlib inline\n",
      "city_data = pd.read_csv('USData_ClassProject1.csv')"
     ],
     "language": "python",
     "metadata": {},
     "outputs": [],
     "prompt_number": 1
    },
    {
     "cell_type": "code",
     "collapsed": false,
     "input": [
      "import scipy.stats as stats\n",
      "left_handed = city_data.MedianIncomeFemale\n",
      "right_handed = city_data.MedianIncomeMale\n",
      "t,p = stats.ttest_ind(left_handed, right_handed, equal_var=False)"
     ],
     "language": "python",
     "metadata": {},
     "outputs": [],
     "prompt_number": 2
    },
    {
     "cell_type": "code",
     "collapsed": false,
     "input": [
      "print \"Median Income Female:\"\n",
      "print np.mean(city_data.MedianIncomeFemale)\n",
      "\n",
      "print \"\\nMedian Income Male:\"\n",
      "print np.mean(city_data.MedianIncomeMale)\n",
      "\n",
      "print \"\\nP-value:\"\n",
      "print p"
     ],
     "language": "python",
     "metadata": {},
     "outputs": [
      {
       "output_type": "stream",
       "stream": "stdout",
       "text": [
        "Median Income Female:\n",
        "36703.7523585\n",
        "\n",
        "Median Income Male:\n",
        "48212.9225629\n",
        "\n",
        "P-value:\n",
        "2.51047916022e-179\n"
       ]
      }
     ],
     "prompt_number": 3
    },
    {
     "cell_type": "markdown",
     "metadata": {},
     "source": [
      "# Male vs Female income\n",
      "\n",
      "We have confirmed than Mans get more $ than Womans. The median income for a woman is about 37k and the median income for a man is about 48k. The p-value is "
     ]
    }
   ],
   "metadata": {}
  }
 ]
}