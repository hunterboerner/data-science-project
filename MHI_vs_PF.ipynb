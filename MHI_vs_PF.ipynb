{
 "metadata": {
  "name": "",
  "signature": "sha256:3303b925ea8a31041ca01626406441be7e841dce52852b25893a15ce7cfdf652"
 },
 "nbformat": 3,
 "nbformat_minor": 0,
 "worksheets": [
  {
   "cells": [
    {
     "cell_type": "code",
     "collapsed": false,
     "input": [
      "import numpy as np\n",
      "import matplotlib.pyplot as plt\n",
      "import pandas as pd\n",
      "import numpy as np\n",
      "%matplotlib inline\n",
      "city_data = pd.read_csv('USData_ClassProject1.csv')"
     ],
     "language": "python",
     "metadata": {},
     "outputs": [],
     "prompt_number": 15
    },
    {
     "cell_type": "code",
     "collapsed": false,
     "input": [
      "import scipy.stats as stats\n",
      "left_handed = city_data.MedianIncomeFemale\n",
      "right_handed = city_data.MedianIncomeMale\n",
      "t,p = stats.ttest_ind(left_handed, right_handed, equal_var=False)"
     ],
     "language": "python",
     "metadata": {},
     "outputs": [],
     "prompt_number": 27
    },
    {
     "cell_type": "code",
     "collapsed": false,
     "input": [
      "print \"Median Income Female:\"\n",
      "print np.mean(city_data.MedianIncomeFemale)\n",
      "\n",
      "print \"\\nMedian Income Male:\"\n",
      "print np.mean(city_data.MedianIncomeMale)\n",
      "\n",
      "print \"\\nP-value:\"\n",
      "print p"
     ],
     "language": "python",
     "metadata": {},
     "outputs": [
      {
       "output_type": "stream",
       "stream": "stdout",
       "text": [
        "Median Income Female:\n",
        "36781.2442932\n",
        "\n",
        "Median Income Male:\n",
        "48360.0668803\n",
        "\n",
        "P-value:\n",
        "8.42592885741e-178\n"
       ]
      }
     ],
     "prompt_number": 28
    },
    {
     "cell_type": "markdown",
     "metadata": {},
     "source": [
      "# Male vs Female income\n",
      "\n",
      "We have confirmed than Mans get more $ than Womans. The median income for a woman is about 37k and the median income for a man is about 48k. The p-value is "
     ]
    }
   ],
   "metadata": {}
  }
 ]
}