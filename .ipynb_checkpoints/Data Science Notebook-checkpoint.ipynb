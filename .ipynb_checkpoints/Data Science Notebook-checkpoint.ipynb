{
 "metadata": {
  "name": "",
  "signature": "sha256:5b276402a3b6af32cd8809c26803b81d74d4ab10aa3b0a8a8f8bdab15b6bd0f3"
 },
 "nbformat": 3,
 "nbformat_minor": 0,
 "worksheets": []
}